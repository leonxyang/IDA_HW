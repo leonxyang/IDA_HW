{
 "cells": [
  {
   "cell_type": "code",
   "execution_count": 18,
   "metadata": {},
   "outputs": [
    {
     "output_type": "stream",
     "name": "stdout",
     "text": "[[0. 0. 0. 0. 0. 0. 0. 0. 0. 0. 0. 0. 0. 0. 0. 0. 0.]\n [1. 1. 1. 0. 0. 0. 0. 0. 0. 0. 0. 0. 0. 0. 0. 0. 0.]\n [0. 0. 0. 0. 0. 0. 0. 0. 0. 0. 0. 0. 0. 0. 0. 0. 0.]\n [0. 0. 0. 0. 0. 0. 0. 0. 0. 0. 0. 0. 0. 0. 0. 0. 0.]\n [0. 0. 0. 0. 0. 0. 0. 0. 0. 0. 0. 0. 0. 0. 0. 0. 0.]\n [0. 0. 0. 0. 0. 0. 0. 0. 0. 0. 0. 0. 0. 0. 0. 0. 0.]\n [0. 0. 0. 1. 1. 1. 1. 0. 0. 0. 0. 0. 0. 0. 0. 0. 0.]\n [0. 0. 0. 0. 0. 0. 0. 0. 0. 0. 0. 0. 0. 0. 0. 0. 0.]\n [0. 0. 0. 0. 0. 0. 0. 1. 1. 0. 1. 0. 0. 0. 0. 0. 1.]\n [0. 0. 0. 0. 0. 0. 0. 0. 0. 1. 0. 1. 0. 0. 0. 0. 0.]\n [0. 0. 0. 0. 0. 0. 0. 0. 0. 0. 0. 0. 0. 0. 0. 0. 0.]\n [0. 0. 0. 0. 0. 0. 0. 0. 0. 0. 0. 0. 0. 0. 0. 0. 0.]\n [0. 0. 0. 0. 0. 0. 0. 0. 0. 0. 0. 0. 0. 0. 0. 0. 0.]\n [0. 0. 0. 0. 0. 0. 0. 0. 0. 0. 0. 0. 1. 1. 1. 1. 0.]\n [0. 0. 0. 0. 0. 0. 0. 0. 0. 0. 0. 0. 0. 0. 0. 0. 0.]\n [0. 0. 0. 0. 0. 0. 0. 0. 0. 0. 0. 0. 0. 0. 0. 0. 0.]\n [0. 0. 0. 0. 0. 0. 0. 0. 0. 0. 0. 0. 0. 0. 0. 0. 0.]]\n"
    }
   ],
   "source": [
    "import numpy as np \n",
    "\n",
    "data = []\n",
    "\n",
    "#push edge Eij to the data [vi, vj, |Eij|]\n",
    "data.append([0, 1, 2])\n",
    "data.append([0, 2, 2])\n",
    "data.append([1, 2, 3])\n",
    "data.append([1, 3, 1])\n",
    "data.append([3, 4, 2])\n",
    "data.append([3, 6, 4])\n",
    "data.append([4, 5, 2])\n",
    "data.append([4, 6, 3])\n",
    "data.append([4, 7, 1])\n",
    "data.append([5, 6, 4])\n",
    "data.append([5, 11, 1])\n",
    "data.append([7, 8, 3])\n",
    "data.append([7, 9, 2])\n",
    "data.append([7, 11, 2])\n",
    "data.append([8, 16, 1])\n",
    "data.append([8, 9, 3])\n",
    "data.append([8, 11, 4])\n",
    "data.append([9, 10, 4])\n",
    "data.append([9, 12, 1])\n",
    "data.append([10, 11, 3])\n",
    "data.append([11, 14, 1])\n",
    "data.append([12, 14, 2])\n",
    "data.append([12, 13, 3])\n",
    "data.append([13, 15, 4])\n",
    "data.append([13, 14, 3])\n",
    "\n",
    "#construct adjacency matrix\n",
    "adjmat = np.zeros((17, 17))\n",
    "for i in range(17):\n",
    "    adjmat[i][i] = 1    #diagonal\n",
    "\n",
    "for edge in data:\n",
    "    adjmat[edge[0]][edge[1]] = edge[2]\n",
    "    adjmat[edge[1]][edge[0]] = edge[2]    #symmetric matrix\n",
    "\n",
    "#normalize adjacency matrix\n",
    "adj_sum = np.sum(adjmat, axis = 0)\n",
    "\n",
    "for i in range(17):\n",
    "    adjmat[:, i] = np.divide(adjmat[:, i], adj_sum[i])\n",
    "\n",
    "#mcl\n",
    "infla = [1.1, 1.3, 1.5, 1.7, 2.1]\n",
    "results = []\n",
    "\n",
    "for inflation in infla:\n",
    "    temp = adjmat\n",
    "    temp_sum = np.zeros(17)\n",
    "    for iter in range(10):\n",
    "        temp = np.dot(temp, temp)    #expand\n",
    "        temp = np.power(temp, inflation)    #inflation\n",
    "        #normalization\n",
    "        temp_sum = np.sum(temp, axis = 0)\n",
    "        for i in range(17):\n",
    "            temp[:, i] = np.divide(temp[:, i], temp_sum[i])\n",
    "    results.append(temp)\n",
    "\n",
    "k = 4\n",
    "#np.around(results[k], decimals=3)\n",
    "np.set_printoptions(precision = 2, suppress = True, linewidth=200)\n",
    "print(results[k])        \n"
   ]
  }
 ],
 "metadata": {
  "language_info": {
   "codemirror_mode": {
    "name": "ipython",
    "version": 3
   },
   "file_extension": ".py",
   "mimetype": "text/x-python",
   "name": "python",
   "nbconvert_exporter": "python",
   "pygments_lexer": "ipython3",
   "version": "3.7.5-final"
  },
  "orig_nbformat": 2,
  "kernelspec": {
   "name": "python37564bitbasecondab422ddc7731b4773a3d58417137d6cdb",
   "display_name": "Python 3.7.5 64-bit ('base': conda)"
  }
 },
 "nbformat": 4,
 "nbformat_minor": 2
}